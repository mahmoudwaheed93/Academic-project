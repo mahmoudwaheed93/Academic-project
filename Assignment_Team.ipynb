{
  "nbformat": 4,
  "nbformat_minor": 0,
  "metadata": {
    "colab": {
      "provenance": [],
      "include_colab_link": true
    },
    "kernelspec": {
      "name": "python3",
      "display_name": "Python 3"
    },
    "language_info": {
      "name": "python"
    }
  },
  "cells": [
    {
      "cell_type": "markdown",
      "metadata": {
        "id": "view-in-github",
        "colab_type": "text"
      },
      "source": [
        "<a href=\"https://colab.research.google.com/github/mahmoudwaheed93/Academic-project/blob/main/Assignment_Team.ipynb\" target=\"_parent\"><img src=\"https://colab.research.google.com/assets/colab-badge.svg\" alt=\"Open In Colab\"/></a>"
      ]
    },
    {
      "cell_type": "code",
      "execution_count": 2,
      "metadata": {
        "id": "vgSmrcUp2co6",
        "colab": {
          "base_uri": "https://localhost:8080/"
        },
        "outputId": "497ba6db-34a0-426c-80dd-79a391ec5f55"
      },
      "outputs": [
        {
          "output_type": "stream",
          "name": "stdout",
          "text": [
            "Hello From MAHMOUD WAHEED\n"
          ]
        }
      ],
      "source": [
        "print (\"Hello From MAHMOUD WAHEED\")"
      ]
    }
  ]
}